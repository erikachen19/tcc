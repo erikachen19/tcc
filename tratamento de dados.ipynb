{
 "cells": [
  {
   "cell_type": "code",
   "execution_count": 1,
   "metadata": {},
   "outputs": [],
   "source": [
    "import pandas as pd \n",
    "from simpledbf import Dbf5\n",
    "pd.options.display.float_format = '{:,.5f}'.format"
   ]
  },
  {
   "cell_type": "code",
   "execution_count": 2,
   "metadata": {},
   "outputs": [],
   "source": [
    "\n",
    "dbf = Dbf5('1997dados.dbf')\n",
    "df1997 = dbf.to_dataframe()\n",
    "dbf = Dbf5('2007dados.dbf')\n",
    "df2007 = dbf.to_dataframe()\n",
    "dbf = Dbf5('2017dados.dbf')\n",
    "df2017 = dbf.to_dataframe()\n"
   ]
  },
  {
   "cell_type": "markdown",
   "metadata": {},
   "source": [
    "# FILTRA AS COLUNAS"
   ]
  },
  {
   "cell_type": "code",
   "execution_count": 6,
   "metadata": {},
   "outputs": [
    {
     "data": {
      "text/plain": [
       "Index(['ZONA', 'MUNI_DOM', 'CO_DOM_X', 'CO_DOM_Y', 'ID_DOM', 'F_DOM', 'FE_DOM',\n",
       "       'DOM', 'CD_ENTRE', 'DATA',\n",
       "       ...\n",
       "       'DURACAO', 'MODOPRIN', 'TIPVG', 'PAG_VIAG', 'TP_ESAUTO', 'VL_EST',\n",
       "       'PE_BICI', 'VIA_BICI', 'TP_ESTBICI', 'ID_ORDEM'],\n",
       "      dtype='object', length=126)"
      ]
     },
     "execution_count": 6,
     "metadata": {},
     "output_type": "execute_result"
    }
   ],
   "source": [
    "df2017.columns"
   ]
  },
  {
   "cell_type": "code",
   "execution_count": 3,
   "metadata": {},
   "outputs": [],
   "source": [
    "import utm\n",
    "import math\n",
    "import geopy.distance\n",
    "def calculate_distance(row,origem, destino):  \n",
    "    return geopy.distance.geodesic(row[origem],row[destino]).km\n",
    "\n",
    "def convert_lat_long(row, column_x, column_y):  \n",
    "    if math.isnan(row[column_x]) or math.isnan(row[column_y]):\n",
    "        return 0\n",
    "    else:\n",
    "        return utm.to_latlon(row[column_x],row[column_y], 23, 'K')\n",
    "\n",
    "df2007[\"origem\"] = df2007.apply(lambda x: convert_lat_long(x,'CO_DOM_X', 'CO_DOM_Y'), axis=1)\n",
    "df2007[\"destino\"] = df2007.apply(lambda x: convert_lat_long(x,'CO_D_X', 'CO_D_Y'), axis=1)\n",
    "df2007[\"dist_ori_des\"] = df2007[['origem','destino']].apply(lambda x: calculate_distance(x,'origem', 'destino'), axis=1)\n",
    "df2017[\"origem\"] = df2017.apply(lambda x: convert_lat_long(x,'CO_DOM_X', 'CO_DOM_Y'), axis=1)\n",
    "df2017[\"destino\"] = df2017.apply(lambda x: convert_lat_long(x,'CO_D_X', 'CO_D_Y'), axis=1)\n",
    "df2017[\"dist_ori_des\"] = df2017[['origem','destino']].apply(lambda x: calculate_distance(x,'origem', 'destino'), axis=1)\n"
   ]
  },
  {
   "cell_type": "code",
   "execution_count": 4,
   "metadata": {},
   "outputs": [],
   "source": [
    "lista_2017 = ['ID_FAM','ID_PESS','FE_FAM','ZONA','VL_REN_I','CRITERIOBR','RENDA_FA','ZONA_O','ZONA_D','MOTIVO_O','MOTIVO_D','MODOPRIN','DURACAO','TIPVG','FE_VIA','dist_ori_des']\n",
    "lista_2007 = ['ID_FAM','ID_PESS','FE_FAM','ZONA','VL_REN_I','CRITERIO_B','RENDA_FA','ZONA_O','MUNI_O','ZONA_D','MOTIVO_O','MOTIVO_D','MODOPRIN','DURACAO','TIPOVG','FE_VIA','dist_ori_des']\n",
    "lista_1997 = ['ID_FAM','ID_PESS','FE_FAM','ZONA','VL_REN_I','RENDA_FA','RENDATRI','ABIPEME','ZONA_O','ZONA_D','MOTIVO_O','MOTIVO_D','MODOPRIN','DURACAO','TIPO_VG','FE_VIA']\n",
    "\n",
    "df97 = df1997[lista_1997].copy()\n",
    "df97 = df97[df97['DURACAO']!=0]\n",
    "df97.columns = map(str.lower, df97.columns)\n",
    "\n",
    "df07 = df2007[lista_2007].copy()\n",
    "\n",
    "df07 = df07[df07['DURACAO']!=0]\n",
    "df07.columns = map(str.lower, df07.columns)\n",
    "\n",
    "df17 = df2017[lista_2017].copy()\n",
    "df17 = df17[df17['DURACAO']!=0]\n",
    "df17.columns = map(str.lower, df17.columns)"
   ]
  },
  {
   "cell_type": "markdown",
   "metadata": {},
   "source": [
    "# ADICIONAR NOME DE ZONAS"
   ]
  },
  {
   "cell_type": "code",
   "execution_count": 5,
   "metadata": {},
   "outputs": [],
   "source": [
    "\n",
    "df_zonas17 = pd.read_excel(\"layout_todos.xlsx\", sheet_name = 'divisao2017')\n",
    "corr_1707 = pd.read_excel(\"layout_todos.xlsx\", sheet_name = 'zona2017-2007')[['numero_zona2007','numero_zona2017']]\n",
    "\n",
    "corr_1797 = pd.read_excel(\"layout_todos.xlsx\", sheet_name = 'zona2007-1997')[['numero_zona2007','numero_zona1997']]\\\n",
    ".merge(corr_1707[['numero_zona2007','numero_zona2017']], on = 'numero_zona2007',how  = 'inner')\n",
    "\n",
    "\n"
   ]
  },
  {
   "cell_type": "markdown",
   "metadata": {},
   "source": [
    "# zona97, zona07->zona 2017"
   ]
  },
  {
   "cell_type": "code",
   "execution_count": 6,
   "metadata": {},
   "outputs": [],
   "source": [
    "df97 = pd.merge(df97,corr_1797[['numero_zona1997','numero_zona2017']],left_on=['zona'], right_on=['numero_zona1997'],how = 'inner')\n",
    "df97 = df97[[i for i in list(df97.columns) if i not in ['zona','numero_zona1997']]].rename(columns = {'numero_zona2017':'zona_dom'})\n",
    "df97 = pd.merge(df97,corr_1797[['numero_zona1997','numero_zona2017']],left_on=['zona_o'], right_on=['numero_zona1997'],how = 'inner')\n",
    "df97 = df97[[i for i in list(df97.columns) if i not in ['zona_o','numero_zona1997']]].rename(columns = {'numero_zona2017':'zona_origem'})\n",
    "df97 = pd.merge(df97,corr_1797[['numero_zona1997','numero_zona2017']],left_on=['zona_d'], right_on=['numero_zona1997'],how = 'inner')\n",
    "df97 = df97[[i for i in list(df97.columns) if i not in ['zona_d','numero_zona1997']]].rename(columns = {'numero_zona2017':'zona_destino'})\n",
    "\n",
    "df07 = pd.merge(df07,corr_1707[['numero_zona2007','numero_zona2017']],left_on=['zona'], right_on=['numero_zona2007'],how = 'inner')\n",
    "df07 = df07[[i for i in list(df07.columns) if i not in ['zona','numero_zona2007']]].rename(columns = {'numero_zona2017':'zona_dom'})\n",
    "df07 = pd.merge(df07,corr_1707[['numero_zona2007','numero_zona2017']],left_on=['zona_o'], right_on=['numero_zona2007'],how = 'inner')\n",
    "df07 = df07[[i for i in list(df07.columns) if i not in ['zona_o','numero_zona2007']]].rename(columns = {'numero_zona2017':'zona_origem'})\n",
    "df07 = pd.merge(df07,corr_1707[['numero_zona2007','numero_zona2017']],left_on=['zona_d'], right_on=['numero_zona2007'],how = 'inner')\n",
    "df07 = df07[[i for i in list(df07.columns) if i not in ['zona_d','numero_zona2007']]].rename(columns = {'numero_zona2017':'zona_destino'})\n",
    "\n",
    "\n",
    "df07 = df07.rename(columns = {'zona_dom':'numero_zonadom','zona_origem':'zona_o','zona_destino':'zona_d'})\n",
    "df97 = df97.rename(columns = {'zona_dom':'numero_zonadom','zona_origem':'zona_o','zona_destino':'zona_d'})\n"
   ]
  },
  {
   "cell_type": "markdown",
   "metadata": {},
   "source": [
    "# zona_name"
   ]
  },
  {
   "cell_type": "code",
   "execution_count": 7,
   "metadata": {},
   "outputs": [],
   "source": [
    "df17 = pd.merge(df17,df_zonas17[['numero_zona','zona']],left_on=['zona'], right_on=['numero_zona'],how = 'inner').rename(columns = {'zona_y':'zona_dom'})\n",
    "df17 = df17[[i for i in list(df17.columns) if i not in ['zona_x']]]\n",
    "df17 = df17.rename(columns = {'numero_zona':'numero_zonadom'})\n",
    "df17 = pd.merge(df17,df_zonas17[['numero_zona','zona']],left_on=['zona_o'], right_on=['numero_zona'],how = 'inner').rename(columns = {'zona':'zona_origem'})\n",
    "df17 = df17[[i for i in list(df17.columns) if 'numero_zona_' not in i ]]\n",
    "df17 = pd.merge(df17,df_zonas17[['numero_zona','zona']],left_on=['zona_d'], right_on=['numero_zona'],how = 'inner').rename(columns = {'zona':'zona_destino'})\n",
    "df17 = df17[[i for i in list(df17.columns)  if 'numero_zona_' not in i]]"
   ]
  },
  {
   "cell_type": "code",
   "execution_count": 323,
   "metadata": {},
   "outputs": [
    {
     "data": {
      "text/plain": [
       "Index(['id_fam', 'id_pess', 'fe_fam', 'vl_ren_i', 'criterio_b', 'renda_fa',\n",
       "       'muni_o', 'motivo_o', 'motivo_d', 'modoprin', 'duracao', 'tipovg',\n",
       "       'fe_via', 'dist_ori_des', 'numero_zonadom', 'zona_o', 'zona_d',\n",
       "       'zona_dom', 'zona_origem', 'zona_destino'],\n",
       "      dtype='object')"
      ]
     },
     "execution_count": 323,
     "metadata": {},
     "output_type": "execute_result"
    }
   ],
   "source": [
    "df07.columns"
   ]
  },
  {
   "cell_type": "code",
   "execution_count": 8,
   "metadata": {},
   "outputs": [],
   "source": [
    "df07 = pd.merge(df07,df_zonas17[['numero_zona','zona']],left_on=['numero_zonadom'], right_on=['numero_zona'],how = 'inner')\n",
    "df07 = df07.rename(columns = {'zona':'zona_dom'})\n",
    "df07 = df07[[i for i in list(df07.columns) if i not in ['numero_zona']]]\n",
    "df07 = pd.merge(df07,df_zonas17[['numero_zona','zona']],left_on=['zona_o'], right_on=['numero_zona'],how = 'inner')\n",
    "df07 = df07.rename(columns = {'zona':'zona_origem'})\n",
    "df07 = df07[[i for i in list(df07.columns) if i not in ['numero_zona']]]\n",
    "df07 = pd.merge(df07,df_zonas17[['numero_zona','zona']],left_on=['zona_d'], right_on=['numero_zona'],how = 'inner')\n",
    "df07 = df07.rename(columns = {'zona':'zona_destino'})\n",
    "df07 = df07[[i for i in list(df07.columns) if i not in ['numero_zona']]]"
   ]
  },
  {
   "cell_type": "code",
   "execution_count": 9,
   "metadata": {},
   "outputs": [],
   "source": [
    "df97 = pd.merge(df97,df_zonas17[['numero_zona','zona']],left_on=['numero_zonadom'], right_on=['numero_zona'],how = 'inner')\n",
    "df97 = df97.rename(columns = {'zona':'zona_dom'})\n",
    "df97 = df97[[i for i in list(df97.columns) if i not in ['numero_zona']]]\n",
    "df97 = pd.merge(df97,df_zonas17[['numero_zona','zona']],left_on=['zona_o'], right_on=['numero_zona'],how = 'inner')\n",
    "df97 = df97.rename(columns = {'zona':'zona_origem'})\n",
    "df97 = df97[[i for i in list(df97.columns) if i not in ['numero_zona']]]\n",
    "df97 = pd.merge(df97,df_zonas17[['numero_zona','zona']],left_on=['zona_d'], right_on=['numero_zona'],how = 'inner')\n",
    "df97 = df97.rename(columns = {'zona':'zona_destino'})\n",
    "df97 = df97[[i for i in list(df97.columns) if i not in ['numero_zona']]]"
   ]
  },
  {
   "cell_type": "markdown",
   "metadata": {},
   "source": [
    "# add distrito"
   ]
  },
  {
   "cell_type": "code",
   "execution_count": 10,
   "metadata": {},
   "outputs": [],
   "source": [
    "df17 = pd.merge(df17,df_zonas17[['numero_zona','numero_distrito','distrito']],left_on=['numero_zonadom'], right_on=['numero_zona'],how = 'inner')\\\n",
    ".rename(columns = {'distrito':'distrito_dom','numero_distrito':'numero_distrito_dom'})\n",
    "df17 = df17[[i for i in list(df17.columns) if i not in ['zona_x']]]\n",
    "df17 = pd.merge(df17,df_zonas17[['numero_zona','numero_distrito','distrito']],left_on=['zona_o'], right_on=['numero_zona'],how = 'inner')\\\n",
    ".rename(columns = {'distrito':'distrito_origem','numero_distrito':'numero_distrito_origem'})\n",
    "df17 = df17[[i for i in list(df17.columns) if i not in ['numero_zona']]]\n",
    "df17 = pd.merge(df17,df_zonas17[['numero_zona','numero_distrito','distrito']],left_on=['zona_d'], right_on=['numero_zona'],how = 'inner')\\\n",
    ".rename(columns = {'distrito':'distrito_destino','numero_distrito':'numero_distrito_destino'})\n",
    "df17 = df17[[i for i in list(df17.columns)   if i not in ['numero_zona']]]\n",
    "\n",
    "df97 = pd.merge(df97,df_zonas17[['numero_zona','numero_distrito','distrito']],left_on=['numero_zonadom'], right_on=['numero_zona'],how = 'inner')\\\n",
    ".rename(columns = {'distrito':'distrito_dom','numero_distrito':'numero_distrito_dom'})\n",
    "df97 = df97[[i for i in list(df97.columns) if i not in ['zona_x']]]\n",
    "df97 = pd.merge(df97,df_zonas17[['numero_zona','numero_distrito','distrito']],left_on=['zona_o'], right_on=['numero_zona'],how = 'inner')\\\n",
    ".rename(columns = {'distrito':'distrito_origem','numero_distrito':'numero_distrito_origem'})\n",
    "df97 = df97[[i for i in list(df97.columns) if i not in ['numero_zona']]]\n",
    "df97 = pd.merge(df97,df_zonas17[['numero_zona','numero_distrito','distrito']],left_on=['zona_d'], right_on=['numero_zona'],how = 'inner')\\\n",
    ".rename(columns = {'distrito':'distrito_destino','numero_distrito':'numero_distrito_destino'})\n",
    "df97 = df97[[i for i in list(df97.columns)  if i not in ['numero_zona']]]\n",
    "\n",
    "df07 = pd.merge(df07,df_zonas17[['numero_zona','numero_distrito','distrito']],left_on=['numero_zonadom'], right_on=['numero_zona'],how = 'inner')\\\n",
    ".rename(columns = {'distrito':'distrito_dom','numero_distrito':'numero_distrito_dom'})\n",
    "df07 = df07[[i for i in list(df07.columns) if i not in ['zona_x']]]\n",
    "df07 = pd.merge(df07,df_zonas17[['numero_zona','numero_distrito','distrito']],left_on=['zona_o'], right_on=['numero_zona'],how = 'inner')\\\n",
    ".rename(columns = {'distrito':'distrito_origem','numero_distrito':'numero_distrito_origem'})\n",
    "df07 = df07[[i for i in list(df07.columns) if i not in ['numero_zona']]]\n",
    "df07 = pd.merge(df07,df_zonas17[['numero_zona','numero_distrito','distrito']],left_on=['zona_d'], right_on=['numero_zona'],how = 'inner')\\\n",
    ".rename(columns = {'distrito':'distrito_destino','numero_distrito':'numero_distrito_destino'})\n",
    "df07 = df07[[i for i in list(df07.columns)   if i not in ['numero_zona']]]"
   ]
  },
  {
   "cell_type": "code",
   "execution_count": 11,
   "metadata": {},
   "outputs": [],
   "source": [
    "df17 = df17[[i for i in list(df17.columns)   if 'numero_zona_' not in i]]\n",
    "df07 = df07[[i for i in list(df07.columns)   if 'numero_zona_' not in i]]\n",
    "df97 = df97[[i for i in list(df97.columns)   if 'numero_zona_' not in i]]\n"
   ]
  },
  {
   "cell_type": "code",
   "execution_count": 326,
   "metadata": {},
   "outputs": [
    {
     "data": {
      "text/plain": [
       "Index(['id_fam', 'id_pess', 'fe_fam', 'vl_ren_i', 'renda_fa', 'rendatri',\n",
       "       'abipeme', 'motivo_o', 'motivo_d', 'modoprin', 'duracao', 'tipo_vg',\n",
       "       'fe_via', 'numero_zonadom', 'zona_o', 'zona_d', 'zona_dom',\n",
       "       'zona_origem', 'zona_destino', 'numero_distrito_dom', 'distrito_dom',\n",
       "       'numero_distrito_origem', 'distrito_origem', 'numero_distrito_destino',\n",
       "       'distrito_destino'],\n",
       "      dtype='object')"
      ]
     },
     "execution_count": 326,
     "metadata": {},
     "output_type": "execute_result"
    }
   ],
   "source": [
    "df97.columns"
   ]
  },
  {
   "cell_type": "markdown",
   "metadata": {},
   "source": [
    "# add regiao"
   ]
  },
  {
   "cell_type": "code",
   "execution_count": 12,
   "metadata": {},
   "outputs": [],
   "source": [
    "import numpy as np\n",
    "def add_regiao(df, nome_column):\n",
    "    conditions = [\n",
    "    (df[nome_column] <109) ,\n",
    "    ((df[nome_column] >= 109) & (df[nome_column] <128)),\n",
    "    (df[nome_column]>=128)& (df[nome_column] <166),\n",
    "    (df[nome_column]>=166)& (df[nome_column] <208),\n",
    "    (df[nome_column]>=208)& (df[nome_column] <236),\n",
    "    (df[nome_column]>=236)& (df[nome_column] <268),\n",
    "    (df[nome_column]>=268)& (df[nome_column] <300),\n",
    "    (df[nome_column]>=300)& (df[nome_column] <316),\n",
    "    (df[nome_column]>=316)& (df[nome_column] <343)]\n",
    "    choices = ['central', 'noroeste', 'norte','nordeste','leste','sudeste','sul','sudoeste','oeste']   \n",
    "    df['regiao_central_{}'.format(nome_column.split('_')[-1])] = np.select(conditions, choices)\n",
    "    conditions = [\n",
    "    (df[nome_column] <343) ,\n",
    "    ((df[nome_column] >= 343) & (df[nome_column] <362)),\n",
    "    (df[nome_column]>=362)& (df[nome_column] <391),\n",
    "    (df[nome_column]>=391)& (df[nome_column] <417),\n",
    "    (df[nome_column]>=417)& (df[nome_column] <460),\n",
    "    (df[nome_column]>=460)& (df[nome_column] <476),\n",
    "    (df[nome_column]>=476)& (df[nome_column] <518)]\n",
    "    choices = ['central', 'norte', 'nordeste','leste','sudeste','sudoeste','oeste']\n",
    "    df['regiao_{}'.format(nome_column.split('_')[-1])] = np.select(conditions, choices)\n",
    "    return df\n",
    "\n",
    "df07 = add_regiao(df07, 'numero_zonadom')\n",
    "df07 = add_regiao(df07, 'zona_o')\n",
    "df07 = add_regiao(df07, 'zona_d')\n",
    "\n",
    "df97 = add_regiao(df97, 'numero_zonadom')\n",
    "df97 = add_regiao(df97, 'zona_o')\n",
    "df97 = add_regiao(df97, 'zona_d')\n",
    "\n",
    "df17 = add_regiao(df17, 'numero_zonadom')\n",
    "df17 = add_regiao(df17, 'zona_o')\n",
    "df17 = add_regiao(df17, 'zona_d')\n",
    "df17 = df17.rename(columns = {'regiao_central_zonadom':'regiao_central_dom','regiao_central_o':'regiao_central_origem',\n",
    "                              'regiao_zonadom':'regiao_dom','regiao_o':'regiao_origem','regiao_central_d':'regiao_central_destino',\n",
    "                             'regiao_d':'regiao_destino'})\n",
    "df07 = df07.rename(columns = {'regiao_central_zonadom':'regiao_central_dom','regiao_central_o':'regiao_central_origem',\n",
    "                              'regiao_zonadom':'regiao_dom','regiao_o':'regiao_origem','regiao_central_d':'regiao_central_destino',\n",
    "                             'regiao_d':'regiao_destino'})\n",
    "df97 = df97.rename(columns = {'regiao_central_zonadom':'regiao_central_dom','regiao_central_o':'regiao_central_origem',\n",
    "                              'regiao_zonadom':'regiao_dom','regiao_o':'regiao_origem','regiao_central_d':'regiao_central_destino',\n",
    "                             'regiao_d':'regiao_destino'})"
   ]
  },
  {
   "cell_type": "code",
   "execution_count": 13,
   "metadata": {},
   "outputs": [],
   "source": [
    "\n",
    "\n",
    "df17['count'] = 1\n",
    "df07['count'] = 1\n",
    "df97['count'] = 1\n"
   ]
  },
  {
   "cell_type": "markdown",
   "metadata": {},
   "source": [
    "# REPLACE NOME DE ITENS POR NUMERO DE ITEMS"
   ]
  },
  {
   "cell_type": "markdown",
   "metadata": {},
   "source": [
    "# 2017"
   ]
  },
  {
   "cell_type": "code",
   "execution_count": 14,
   "metadata": {},
   "outputs": [],
   "source": [
    "dict_motivo17 = {1:\"Trabalho\",\n",
    "2:\"Trabalho\",\n",
    "3:\"Trabalho\",\n",
    "4:\"Escola/Educação\",\n",
    "5:\"Compras\",\n",
    "6:\"Médico/Dentista/Saúde\",\n",
    "7:\"Recreação/Visitas/Lazer\",\n",
    "8:\"Residência\",\n",
    "9:\"Procurar Emprego\",\n",
    "10:\"Assuntos Pessoais\",\n",
    "11:\"Refeição\"}\n",
    "df17['motivo_na_origem_nome'] = df17['motivo_o'].replace(dict_motivo17)\n",
    "df17['motivo_no_destino_nome'] = df17['motivo_d'].replace(dict_motivo17)\n",
    "df17 = df17[[i for i in (df17.columns) if i not in ['motivo_o','motivo_d']]]\n",
    "\n",
    "dict_criteriobr17 = {\n",
    "1:\"A\",\n",
    "2:\"B\",\n",
    "3:\"B\",\n",
    "4:\"C\",\n",
    "5:\"C\",\n",
    "6:\"D - E\"\n",
    "}\n",
    "\n",
    "\n",
    "df17['criteriobr'] = df17['criteriobr'].replace(dict_criteriobr17)\n",
    "\n",
    "\n",
    "dict_modos17 = {\n",
    "1:\"Metrô\",\n",
    "2:\"Trem\",\n",
    "3:\"Monotrilho\",\n",
    "4:\"Ônibus\",\n",
    "5:\"Ônibus\",\n",
    "6:\"Ônibus\",\n",
    "7:\"Fretado\",\n",
    "8:\"Escolar\",\n",
    "9:\"Carro\",\n",
    "10:\"Táxi/Uber\",\n",
    "11:\"Táxi/Uber\",\n",
    "12:\"Táxi/Uber\",\n",
    "13:\"Moto\",\n",
    "14:\"Moto\",\n",
    "15:\"Bicicleta\",\n",
    "16:\"A Pé\",\n",
    "17:\"Outros\"\n",
    "}\n",
    "\n",
    "\n",
    "\n",
    "df17['modoprin'] = df17['modoprin'].replace(dict_modos17)\n",
    "\n",
    "tipoviagem17 = {\n",
    "1:\"Coletivo\",\n",
    "2:\"Individual\",\n",
    "3:\"A pé\",\n",
    "4:\"Bicicleta\"}\n",
    "\n",
    "df17['tipvg'] = df17['tipvg'].replace(tipoviagem17)\n",
    "#df17.to_csv('df17.csv')\n",
    "##########################################################################################################################\n",
    "dfresistencia17 = df17[(df17['motivo_no_destino_nome'].isin(['Residência'])) &(df17['motivo_na_origem_nome'].isin([\"Trabalho\"]))]\n",
    "\n",
    "dftrabalho17 = df17[(df17['motivo_no_destino_nome'].isin([\"Trabalho\"])) &(df17['motivo_na_origem_nome'].isin(['Residência']))]\n"
   ]
  },
  {
   "cell_type": "markdown",
   "metadata": {},
   "source": [
    "# 2007"
   ]
  },
  {
   "cell_type": "code",
   "execution_count": 15,
   "metadata": {},
   "outputs": [],
   "source": [
    "dict_motivo07 = {1:\"Trabalho\",\n",
    "2:\"Trabalho\",\n",
    "3:\"Trabalho\",\n",
    "4:\"Escola/Educação\",\n",
    "5:\"Compras\",\n",
    "6:\"Médico/Dentista/Saúde\",\n",
    "7:\"Recreação/Visitas/Lazer\",\n",
    "8:\"Residência\",\n",
    "9:\"Procurar Emprego\",\n",
    "10:\"Assuntos Pessoais\"}\n",
    "df07['motivo_na_origem_nome'] = df07['motivo_o'].replace(dict_motivo07)\n",
    "df07['motivo_no_destino_nome'] = df07['motivo_d'].replace(dict_motivo07)\n",
    "df07 = df07[[i for i in (df07.columns) if i not in ['motivo_o','motivo_d']]]\n",
    "\n",
    "dict_criteriobr07 = {1:\"A\",\n",
    "2:\"A\",\n",
    "3:\"B\",\n",
    "4:\"B\",\n",
    "5:\"C\",\n",
    "6:\"C\",\n",
    "7:\"D - E\",\n",
    "8:\"D - E\"}\n",
    "\n",
    "\n",
    "df07['criterio_b'] = df07['criterio_b'].replace(dict_criteriobr07)\n",
    "\n",
    "\n",
    "dict_modos07 = {1:\"Ônibus\",\n",
    "2:\"Ônibus\",\n",
    "3:\"Ônibus\",\n",
    "4:\"Fretado\",\n",
    "5:\"Escolar\",\n",
    "6:\"Carro\",\n",
    "7:\"Táxi/Uber\",\n",
    "8:\"Táxi/Uber\",\n",
    "9:\"Ônibus\",\n",
    "10:\"Ônibus\",\n",
    "11:\"Ônibus\",\n",
    "12:\"Metrô\",\n",
    "13:\"Trem\",\n",
    "14:\"Moto\",\n",
    "15:\"Bicicleta\",\n",
    "16:\"A Pé\",\n",
    "17:\"Outros\"}\n",
    "\n",
    "df07['modoprin'] = df07['modoprin'].replace(dict_modos07)\n",
    "\n",
    "tipoviagem07 = {\n",
    "1:\"Coletivo\",\n",
    "2:\"Individual\",\n",
    "3:\"A pé\",\n",
    "4:'Bicicleta'}\n",
    "\n",
    "df07['tipovg'] = df07['tipovg'].replace(tipoviagem07)\n",
    "\n",
    "#df07.to_csv('df07.csv')\n",
    "####################################################################################################################\n",
    "\n",
    "dfresistencia07 = df07[(df07['motivo_no_destino_nome'].isin(['Residência'])) &(df07['motivo_na_origem_nome'].isin([\"Trabalho\"]))]\n",
    "\n",
    "dftrabalho07 = df07[(df07['motivo_no_destino_nome'].isin([\"Trabalho\"])) &(df07['motivo_na_origem_nome'].isin(['Residência']))]"
   ]
  },
  {
   "cell_type": "markdown",
   "metadata": {},
   "source": [
    "# 1997"
   ]
  },
  {
   "cell_type": "code",
   "execution_count": 16,
   "metadata": {},
   "outputs": [],
   "source": [
    "dict_motivo97 = {1:\"Trabalho\",\n",
    "2:\"Trabalho\",\n",
    "3:\"Trabalho\",\n",
    "4:\"Escola/Educação\",\n",
    "5:\"Compras\",\n",
    "6:\"Médico/Dentista/Saúde\",\n",
    "7:\"Recreação/Visitas/Lazer\",\n",
    "8:\"Residência\",\n",
    "9:\"outros\"}\n",
    "df97['motivo_na_origem_nome'] = df97['motivo_o'].replace(dict_motivo97)\n",
    "df97['motivo_no_destino_nome'] = df97['motivo_d'].replace(dict_motivo97)\n",
    "df97 = df97[[i for i in (df97.columns) if i not in ['motivo_o','motivo_d']]]\n",
    "\n",
    "dict_criteriobr97 = {0:\"A\",\n",
    "    1:\"A\",\n",
    "2:\"B\",\n",
    "3:\"C\",\n",
    "4:\"D - E\",\n",
    "5:\"D - E\"}\n",
    "\n",
    "\n",
    "df97['abipeme'] = df97['abipeme'].replace(dict_criteriobr97)\n",
    "\n",
    "\n",
    "dict_modos97 = {\n",
    "1:\"Ônibus\",\n",
    "2:\"Fretado\",\n",
    "3:\"Escolar\",\n",
    "4:\"Carro\",\n",
    "5:\"Táxi/Uber\",\n",
    "6:\"Táxi/Uber\",\n",
    "7:\"Ônibus\",\n",
    "8:\"Metrô\",\n",
    "9:\"Trem\",\n",
    "10:\"Moto\",\n",
    "11:\"Bicicleta\",\n",
    "12:\"A Pé\",\n",
    "13:\"Outros\"\n",
    "}\n",
    "\n",
    "df97['modoprin'] = df97['modoprin'].replace(dict_modos97)\n",
    "dfbici = df97[df97['modoprin'] =='Bicicleta'].copy()\n",
    "dfbici['tipo_vg']=4\n",
    "df972 = dfbici.append(df97[df97['modoprin'] !='Bicicleta'].copy(), ignore_index = True)\n",
    "df97 = df972\n",
    "tipoviagem97 = {\n",
    "1:\"Coletivo\",\n",
    "2:\"Individual\",\n",
    "3:\"A pé\",\n",
    "4:'Bicicleta'}\n",
    "\n",
    "df97['tipo_vg'] = df97['tipo_vg'].replace(tipoviagem97)\n",
    "\n",
    "#df97.to_csv('df97.csv')\n",
    "\n",
    "#####################################################################################\n",
    "\n",
    "dfresistencia97 = df97[(df97['motivo_no_destino_nome'].isin(['Residência'])) &(df97['motivo_na_origem_nome'].isin([\"Trabalho\"]))]\n",
    "\n",
    "dftrabalho97 = df97[(df97['motivo_no_destino_nome'].isin([\"Trabalho\"])) &(df97['motivo_na_origem_nome'].isin(['Residência']))]\n"
   ]
  },
  {
   "cell_type": "code",
   "execution_count": 17,
   "metadata": {},
   "outputs": [],
   "source": [
    "dftrabalho17 = dftrabalho17.drop_duplicates()\n",
    "dftrabalho07 = dftrabalho07.drop_duplicates()\n",
    "dftrabalho97 = dftrabalho97.drop_duplicates()\n",
    "dfresistencia17 = dfresistencia17.drop_duplicates()\n",
    "dfresistencia07 = dfresistencia07.drop_duplicates()\n",
    "dfresistencia97 = dfresistencia97.drop_duplicates()\n"
   ]
  },
  {
   "cell_type": "code",
   "execution_count": 18,
   "metadata": {},
   "outputs": [],
   "source": [
    "dftrabalho07 = dftrabalho07.rename(columns = {'criterio_b':'criteriobr','tipovg':'tipvg'})\n",
    "dftrabalho97 = dftrabalho97.rename(columns = {'abipeme':'criteriobr','tipo_vg':'tipvg'})\n",
    "dfresistencia07 = dfresistencia07.rename(columns = {'criterio_b':'criteriobr','tipovg':'tipvg'})\n",
    "dfresistencia97 = dfresistencia97.rename(columns = {'abipeme':'criteriobr','tipo_vg':'tipvg'})\n",
    "df07 = df07.rename(columns = {'criterio_b':'criteriobr','tipovg':'tipvg'})\n",
    "df97 = df97.rename(columns = {'abipeme':'criteriobr','tipo_vg':'tipvg'})\n",
    "\n"
   ]
  },
  {
   "cell_type": "code",
   "execution_count": 20,
   "metadata": {},
   "outputs": [],
   "source": [
    "df17.drop_duplicates().to_csv('df17.csv')\n",
    "df07.drop_duplicates().to_csv('df07.csv')\n",
    "df97.drop_duplicates().to_csv('df97.csv')"
   ]
  },
  {
   "cell_type": "code",
   "execution_count": 21,
   "metadata": {},
   "outputs": [],
   "source": [
    "dftrabalho17.drop_duplicates().to_csv('dftrabalho17.csv')\n",
    "dftrabalho07.drop_duplicates().to_csv('dftrabalho07.csv')\n",
    "dftrabalho97.drop_duplicates().to_csv('dftrabalho97.csv')\n",
    "dfresistencia17.drop_duplicates().to_csv('dfresistencia17.csv')\n",
    "dfresistencia07.drop_duplicates().to_csv('dfresistencia07.csv')\n",
    "dfresistencia97.drop_duplicates().to_csv('dfresistencia97.csv')\n"
   ]
  }
 ],
 "metadata": {
  "kernelspec": {
   "display_name": "Python 3",
   "language": "python",
   "name": "python3"
  },
  "language_info": {
   "codemirror_mode": {
    "name": "ipython",
    "version": 3
   },
   "file_extension": ".py",
   "mimetype": "text/x-python",
   "name": "python",
   "nbconvert_exporter": "python",
   "pygments_lexer": "ipython3",
   "version": "3.8.5"
  }
 },
 "nbformat": 4,
 "nbformat_minor": 2
}
